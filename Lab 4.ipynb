{
 "cells": [
  {
   "cell_type": "code",
   "execution_count": 63,
   "metadata": {},
   "outputs": [],
   "source": [
    "import numpy as np\n",
    "import pandas as pd\n",
    "from sklearn.model_selection import train_test_split"
   ]
  },
  {
   "cell_type": "code",
   "execution_count": 7,
   "metadata": {},
   "outputs": [
    {
     "data": {
      "text/html": [
       "<div>\n",
       "<style scoped>\n",
       "    .dataframe tbody tr th:only-of-type {\n",
       "        vertical-align: middle;\n",
       "    }\n",
       "\n",
       "    .dataframe tbody tr th {\n",
       "        vertical-align: top;\n",
       "    }\n",
       "\n",
       "    .dataframe thead th {\n",
       "        text-align: right;\n",
       "    }\n",
       "</style>\n",
       "<table border=\"1\" class=\"dataframe\">\n",
       "  <thead>\n",
       "    <tr style=\"text-align: right;\">\n",
       "      <th></th>\n",
       "      <th>x</th>\n",
       "      <th>y</th>\n",
       "    </tr>\n",
       "  </thead>\n",
       "  <tbody>\n",
       "    <tr>\n",
       "      <td>0</td>\n",
       "      <td>32.502345</td>\n",
       "      <td>31.707006</td>\n",
       "    </tr>\n",
       "    <tr>\n",
       "      <td>1</td>\n",
       "      <td>53.426804</td>\n",
       "      <td>68.777596</td>\n",
       "    </tr>\n",
       "    <tr>\n",
       "      <td>2</td>\n",
       "      <td>61.530358</td>\n",
       "      <td>62.562382</td>\n",
       "    </tr>\n",
       "    <tr>\n",
       "      <td>3</td>\n",
       "      <td>47.475640</td>\n",
       "      <td>71.546632</td>\n",
       "    </tr>\n",
       "    <tr>\n",
       "      <td>4</td>\n",
       "      <td>59.813208</td>\n",
       "      <td>87.230925</td>\n",
       "    </tr>\n",
       "  </tbody>\n",
       "</table>\n",
       "</div>"
      ],
      "text/plain": [
       "           x          y\n",
       "0  32.502345  31.707006\n",
       "1  53.426804  68.777596\n",
       "2  61.530358  62.562382\n",
       "3  47.475640  71.546632\n",
       "4  59.813208  87.230925"
      ]
     },
     "execution_count": 7,
     "metadata": {},
     "output_type": "execute_result"
    }
   ],
   "source": [
    "data = pd.read_csv(\"data.csv\",names=[\"x\",\"y\"])\n",
    "data.head()"
   ]
  },
  {
   "cell_type": "code",
   "execution_count": 24,
   "metadata": {},
   "outputs": [
    {
     "name": "stdout",
     "output_type": "stream",
     "text": [
      "(1.3224310227553542, 7.991020982270669)\n",
      "[[1.32243102]\n",
      " [7.99102098]]\n"
     ]
    }
   ],
   "source": [
    "def best_fit_line(x,y):\n",
    "    y_ = np.mean(y)\n",
    "    x_ = np.mean(x)\n",
    "    numerator = np.sum(x*y-y_*x)\n",
    "    denominator = np.sum(x*x-x_*x)\n",
    "    B = numerator/denominator\n",
    "    a = y_ - B*x_\n",
    "    return B,a\n",
    "\n",
    "def best_fit_line2(x,y):\n",
    "    x = x.reshape(-1,1)\n",
    "    x = np.insert(x,1,1,axis=1)\n",
    "    y = y.reshape(-1,1)\n",
    "    return np.matmul(np.linalg.pinv(np.matmul(x.T,x)),np.matmul(x.T,y))\n",
    "\n",
    "print(best_fit_line(data[\"x\"].values,data[\"y\"].values))\n",
    "print(best_fit_line2(data[\"x\"].values,data[\"y\"].values))"
   ]
  },
  {
   "cell_type": "code",
   "execution_count": 56,
   "metadata": {},
   "outputs": [
    {
     "name": "stdout",
     "output_type": "stream",
     "text": [
      "1273.138684865341\n",
      "975.760682518001\n",
      "747.8562988264703\n",
      "573.1935186721175\n",
      "439.3330137046937\n",
      "336.74193934511163\n",
      "258.11480583396053\n",
      "197.85303713590588\n",
      "151.66613776924885\n",
      "116.26605198301394\n",
      "89.13293947934062\n",
      "68.33568015537338\n",
      "52.39431965145167\n",
      "40.17465566372536\n",
      "30.80745491347622\n",
      "23.62654551785934\n",
      "18.121374308642146\n",
      "13.900649212253597\n",
      "10.664476562540955\n",
      "8.1830084361128\n",
      "6.280078899846643\n",
      "4.820663485947307\n",
      "3.7012685851937306\n",
      "2.842566179867603\n",
      "2.1837492958247964\n",
      "1.6782061348455528\n",
      "1.2902047873022298\n",
      "0.9923524141603366\n",
      "0.7636479552871975\n",
      "0.5879896984610298\n",
      "0.453031442407422\n",
      "0.3493058158665008\n",
      "0.26955234201300016\n",
      "0.208202419051716\n",
      "0.16098456231692637\n",
      "0.1246218167900679\n",
      "0.09659981167229148\n",
      "0.07498895803756511\n",
      "0.05830814490070679\n",
      "0.045420242844571135\n",
      "0.03545198804626182\n",
      "0.02773255438320632\n",
      "0.021746450840950615\n",
      "0.017097400386575146\n",
      "0.013480637381377392\n",
      "0.010661659097436882\n",
      "0.008459925591040474\n",
      "0.00673635373745185\n",
      "0.005383720672810455\n",
      "0.004319298400972116\n",
      "0.003479199607966166\n",
      "0.0028140360549144816\n",
      "0.0022855839091135977\n",
      "0.001864221664035881\n",
      "0.001526960940822164\n",
      "0.0012559323508014586\n",
      "0.0010372207184303761\n",
      "0.000859968581195858\n",
      "0.0007156857622447887\n",
      "0.0005977172861832969\n",
      "0.0005008330102498348\n",
      "0.00042091085316542376\n",
      "0.00035469203703542007\n",
      "0.00029959176239913177\n",
      "0.0002535525841267372\n",
      "0.00021493069854727764\n",
      "0.0001824076221055293\n",
      "0.000154921472031333\n",
      "0.00013161339951750506\n",
      "0.00011178574537495933\n",
      "9.486927891089181e-05\n",
      "8.039748273347413e-05\n",
      "6.798631375204423e-05\n",
      "5.731822595578251e-05\n",
      "4.81295174523666e-05\n",
      "4.020027657247738e-05\n",
      "3.334636255658552e-05\n",
      "2.7412985986075e-05\n",
      "2.226954823925098e-05\n",
      "1.780547589191883e-05\n",
      "1.3926844346201506e-05\n",
      "1.0553628115417268e-05\n",
      "7.617452354224952e-06\n"
     ]
    },
    {
     "data": {
      "text/plain": [
       "(1.4788726628830617, 0.030314143442741262)"
      ]
     },
     "execution_count": 56,
     "metadata": {},
     "output_type": "execute_result"
    }
   ],
   "source": [
    "def error(x,y,B,a):\n",
    "    x = x.reshape(-1,1)\n",
    "    y = y.reshape(-1,1)\n",
    "    return np.mean((y-x*B+a)**2)\n",
    "\n",
    "def gradient_descent(X,Y,lr,delta):\n",
    "    B,a = 0,0\n",
    "    n = len(X)\n",
    "    error_old = 0\n",
    "    error_new = error(X,Y,B,a)\n",
    "    while abs(error_old-error_new) > delta:\n",
    "        B_,a_ = 0,0\n",
    "        for x,y in zip(X,Y):\n",
    "            B_ = B_ + lr*(y-(B*x+a))*x\n",
    "            a_ = a_ + lr*(y-(B*x+a))*1\n",
    "        B += B_/n\n",
    "        a += a_/n\n",
    "        error_old = error_new\n",
    "        error_new = error(X,Y,B,a)\n",
    "        print(error_old-error_new)\n",
    "    return B,a\n",
    "\n",
    "gradient_descent(data[\"x\"].values,data[\"y\"].values,0.00005,0.00001)"
   ]
  },
  {
   "cell_type": "code",
   "execution_count": 61,
   "metadata": {},
   "outputs": [
    {
     "data": {
      "text/html": [
       "<div>\n",
       "<style scoped>\n",
       "    .dataframe tbody tr th:only-of-type {\n",
       "        vertical-align: middle;\n",
       "    }\n",
       "\n",
       "    .dataframe tbody tr th {\n",
       "        vertical-align: top;\n",
       "    }\n",
       "\n",
       "    .dataframe thead th {\n",
       "        text-align: right;\n",
       "    }\n",
       "</style>\n",
       "<table border=\"1\" class=\"dataframe\">\n",
       "  <thead>\n",
       "    <tr style=\"text-align: right;\">\n",
       "      <th></th>\n",
       "      <th>Unnamed: 0</th>\n",
       "      <th>docid</th>\n",
       "      <th>review</th>\n",
       "      <th>rating</th>\n",
       "    </tr>\n",
       "  </thead>\n",
       "  <tbody>\n",
       "    <tr>\n",
       "      <td>0</td>\n",
       "      <td>0</td>\n",
       "      <td>usa_illinois_chicago_the_talbott_hotel</td>\n",
       "      <td>\\tWonderful\\tI had a sore throat and the hotel...</td>\n",
       "      <td>4.672131</td>\n",
       "    </tr>\n",
       "    <tr>\n",
       "      <td>1</td>\n",
       "      <td>1</td>\n",
       "      <td>usa_illinois_chicago_sofitel_chicago_water_tower</td>\n",
       "      <td>Nov 20 2009 \\tDidn't want to check out...\\tPer...</td>\n",
       "      <td>4.601329</td>\n",
       "    </tr>\n",
       "    <tr>\n",
       "      <td>2</td>\n",
       "      <td>2</td>\n",
       "      <td>usa_illinois_chicago_trump_international_hotel...</td>\n",
       "      <td>\\tWOW!!\\tGreat hotel! Stayed there with my wif...</td>\n",
       "      <td>4.696296</td>\n",
       "    </tr>\n",
       "    <tr>\n",
       "      <td>3</td>\n",
       "      <td>3</td>\n",
       "      <td>usa_illinois_chicago_hampton_inn_majestic_chicago</td>\n",
       "      <td>\\tStaff Went Above \\tWhile waiting for our gue...</td>\n",
       "      <td>4.595455</td>\n",
       "    </tr>\n",
       "    <tr>\n",
       "      <td>4</td>\n",
       "      <td>4</td>\n",
       "      <td>usa_illinois_chicago_residence_inn_chicago_dow...</td>\n",
       "      <td>\\tWonderful Hotel Will Definately Stay Here Ag...</td>\n",
       "      <td>4.645000</td>\n",
       "    </tr>\n",
       "  </tbody>\n",
       "</table>\n",
       "</div>"
      ],
      "text/plain": [
       "   Unnamed: 0                                              docid  \\\n",
       "0           0             usa_illinois_chicago_the_talbott_hotel   \n",
       "1           1   usa_illinois_chicago_sofitel_chicago_water_tower   \n",
       "2           2  usa_illinois_chicago_trump_international_hotel...   \n",
       "3           3  usa_illinois_chicago_hampton_inn_majestic_chicago   \n",
       "4           4  usa_illinois_chicago_residence_inn_chicago_dow...   \n",
       "\n",
       "                                              review    rating  \n",
       "0  \\tWonderful\\tI had a sore throat and the hotel...  4.672131  \n",
       "1  Nov 20 2009 \\tDidn't want to check out...\\tPer...  4.601329  \n",
       "2  \\tWOW!!\\tGreat hotel! Stayed there with my wif...  4.696296  \n",
       "3  \\tStaff Went Above \\tWhile waiting for our gue...  4.595455  \n",
       "4  \\tWonderful Hotel Will Definately Stay Here Ag...  4.645000  "
      ]
     },
     "execution_count": 61,
     "metadata": {},
     "output_type": "execute_result"
    }
   ],
   "source": [
    "reviews_data = pd.read_csv(\"chicago_hotel_reviews.csv\")\n",
    "reviews_data.head()"
   ]
  },
  {
   "cell_type": "code",
   "execution_count": 76,
   "metadata": {},
   "outputs": [],
   "source": [
    "n = len(reviews_data)\n",
    "n_train = int(0.8*n)\n",
    "n_test = n-n_train\n",
    "\n",
    "index = np.random.choice(n,n,replace=False)\n",
    "trainSet = reviews_data.iloc[index[:n_train]]\n",
    "testSet = reviews_data.iloc[index[n_train:]]"
   ]
  },
  {
   "cell_type": "code",
   "execution_count": 102,
   "metadata": {},
   "outputs": [
    {
     "name": "stdout",
     "output_type": "stream",
     "text": [
      "(125, 3319)\n"
     ]
    }
   ],
   "source": [
    "from sklearn.feature_extraction.text import TfidfVectorizer\n",
    "vectorizer = TfidfVectorizer()\n",
    "Xtotal = vectorizer.fit_transform(reviews_data[\"review\"])\n",
    "Xtrain = Xtotal[index[:n_train]]\n",
    "Xtest = Xtotal[index[n_train:]]"
   ]
  },
  {
   "cell_type": "code",
   "execution_count": 143,
   "metadata": {},
   "outputs": [
    {
     "name": "stdout",
     "output_type": "stream",
     "text": [
      "['00', '000', '08', '09', '10', '100', '105', '10k', '10min', '10x', '11', '11am', '12', '124', '13', '14', '15', '1500', '16', '1605', '169', '17', '18', '1800s', '19', '1930', '1st', '20', '200', '2003', '2007', '2008', '2009', '200lbs', '201', '205', '208', '21', '215', '21st', '22', '22th', '23', '23rd', '23yrs', '24', '25', '250', '25th', '26', '27', '27th', '28', '29', '2nd', '30', '300', '30pm', '31', '320', '36', '365', '38th', '39', '3rd', '40', '42', '422', '440', '45', '450', '48', '49', '50', '500', '54a', '5x6', '645', '65', '676', '6am', '6th', '71', '7a', '7th', '80', '830', '89', '90', '900', '904', '906', '94', '99', '9am', '9th', 'abbott', 'abbotts', 'ability', 'able', 'about', 'above', 'abrupt', 'absolutely', 'ac', 'accept', 'acceptable', 'access', 'accidently', 'accomidations', 'accommodating', 'accommodation', 'accommodations', 'accomodate', 'accomodating', 'accomodations', 'according', 'accordingly', 'accross', 'across', 'acted', 'action', 'active', 'activity', 'acts', 'actual', 'actually', 'add', 'added', 'addition', 'additionally', 'adds', 'adequate', 'adjacent', 'adjustable', 'adult', 'adults', 'advantage', 'advantages', 'adventurer', 'adverise', 'advertised', 'advice', 'advise', 'advised', 'advisor', 'affected', 'affinia', 'afford', 'affordable', 'affords', 'after', 'afternoon', 'again', 'against', 'aged', 'agents', 'agree', 'agreed', 'agreement', 'ahead', 'air', 'aircraft', 'airfield', 'airport', 'albeit', 'alert', 'alfonso', 'all', 'allegro', 'alley', 'allow', 'allowed', 'allows', 'almost', 'alone', 'along', 'alongside', 'alot', 'already', 'also', 'alternative', 'alternatives', 'although', 'altogether', 'always', 'am', 'amazed', 'amazing', 'amazingly', 'ambassador', 'ambulances', 'amenenties', 'amenities', 'amenity', 'america', 'american', 'americans', 'among', 'amongst', 'amount', 'amp', 'amtrak', 'an', 'analog', 'and', 'andersonville', 'andiamo', 'anger', 'ann', 'anne', 'anniversary', 'announcements', 'annoying', 'another', 'answer', 'answered', 'any', 'anymore', 'anyone', 'anything', 'anytime', 'anyway', 'anywhere', 'apartment', 'appalling', 'apparently', 'appealing', 'appeared', 'appearing', 'appears', 'appetizers', 'apple', 'applied', 'apply', 'appreciate', 'approach', 'approximately', 'apt', 'ar', 'archaic', 'are', 'area', 'areas', 'aren', 'arguably', 'argue', 'around', 'array', 'arrival', 'arrived', 'arriving', 'arrogant', 'art', 'as', 'ashland', 'aside', 'ask', 'asked', 'asking', 'aspects', 'aspx', 'assi', 'assist', 'assistance', 'associate', 'assume', 'assuming', 'at', 'ate', 'atlanta', 'atmosphere', 'attached', 'attempt', 'attempted', 'attend', 'attendant', 'attending', 'attention', 'attentive', 'attitude', 'attraction', 'attractions', 'attractive', 'aug', 'aunt', 'australia', 'australians', 'authentically', 'authority', 'automatically', 'available', 'ave', 'avenue', 'average', 'averaged', 'avoid', 'avoiding', 'aware', 'away', 'awesome', 'awful', 'awsome', 'bac', 'back', 'bad', 'bagels', 'bags', 'bakery', 'balconies', 'balcony', 'ball', 'balls', 'band', 'bands', 'bank', 'banquet', 'bar', 'barely', 'bargain', 'barley', 'bars', 'bartender', 'bartenders', 'base', 'basement', 'basic', 'basically', 'basics', 'bates', 'bath', 'bathrobe', 'bathrobes', 'bathroom', 'bathrooms', 'bathtub', 'batteries', 'battery', 'battling', 'be', 'bears', 'beat', 'beautiful', 'beauty', 'became', 'because', 'become', 'bed', 'bedboard', 'bedroom', 'beds', 'bedsheet', 'bedside', 'beed', 'been', 'beer', 'before', 'began', 'begging', 'begin', 'beginning', 'behind', 'being', 'belair', 'belden', 'believe', 'bell', 'bellwood', 'belmont', 'belongings', 'below', 'beside', 'best', 'bet', 'better', 'between', 'beware', 'beyond', 'bicycle', 'bidding', 'big', 'bigger', 'bill', 'billed', 'billing', 'bin', 'birthday', 'bit', 'black', 'blake', 'blanket', 'blankets', 'blast', 'blew', 'blinds', 'blink', 'block', 'blocks', 'blood', 'bloomingdales', 'blown', 'blue', 'blues', 'blurry', 'blurted', 'blvd', 'board', 'boarded', 'boarding', 'boardwalk', 'boasts', 'boat', 'bob', 'body', 'boiled', 'bonuses', 'book', 'booked', 'booking', 'bored', 'both', 'bother', 'bothered', 'botherig', 'bottle', 'bottled', 'bottles', 'bottom', 'bouncing', 'boutique', 'boxed', 'boy', 'boyfriend', 'boys', 'boystown', 'brag', 'brags', 'branding', 'bread', 'breads', 'break', 'breakfast', 'breakfasts', 'breeze', 'bridge', 'brief', 'bright', 'bring', 'broad', 'broken', 'brothel', 'brought', 'brown', 'browns', 'brynmar', 'btw', 'bubble', 'bucket', 'buckingham', 'bucks', 'budget', 'buffet', 'buffett', 'bugs', 'build', 'building', 'buildings', 'built', 'bulb', 'bullseye', 'bum', 'bumped', 'bunch', 'burbs', 'bureau', 'burger', 'burn', 'burner', 'burnham', 'bus', 'buses', 'business', 'businesses', 'busy', 'but', 'buzzed', 'by', 'cab', 'cabbies', 'cable', 'caf', 'cafe', 'cake', 'calculus', 'caliber', 'california', 'call', 'called', 'calling', 'calls', 'came', 'campus', 'can', 'cancellation', 'cancer', 'cannot', 'car', 'carafe', 'caray', 'card', 'care', 'careful', 'carey', 'carlton', 'carpet', 'carpets', 'carry', 'carryout', 'cars', 'carte', 'cartoon', 'case', 'cases', 'casually', 'catch', 'cats', 'caught', 'cause', 'causes', 'caution', 'cd', 'ceiling', 'ceilings', 'celebrate', 'celebrated', 'celebrity', 'center', 'central', 'centrally', 'centre', 'cereal', 'cereals', 'ceremony', 'certain', 'certainly', 'cesspool', 'chain', 'chains', 'chair', 'chairs', 'chaise', 'chance', 'change', 'changed', 'channel', 'channels', 'charactars', 'charge', 'charged', 'charges', 'charm', 'charming', 'chateau', 'chatty', 'cheap', 'cheaper', 'cheaply', 'check', 'checked', 'checking', 'checkout', 'cheddar', 'cheeper', 'cheerful', 'cheese', 'cheesed', 'chef', 'chest', 'chewed', 'chic', 'chicago', 'chicagoland', 'chigo', 'child', 'children', 'chilled', 'chipping', 'chitown', 'chocolate', 'choice', 'choose', 'chose', 'christened', 'christmas', 'christopher', 'chrome', 'cicero', 'cigarette', 'circled', 'circulation', 'cities', 'city', 'civilization', 'claim', 'claimed', 'clark', 'class', 'classic', 'classify', 'classy', 'clean', 'cleaned', 'cleaner', 'cleaners', 'cleanliness', 'clear', 'cleared', 'clearly', 'clerk', 'clerks', 'clients', 'clinicalservices', 'clinton', 'clock', 'clorox', 'close', 'closed', 'closer', 'closest', 'closet', 'closets', 'closing', 'cloth', 'clothes', 'clothing', 'cloths', 'club', 'clubs', 'coast', 'coffee', 'coin', 'cold', 'colleague', 'colleagues', 'college', 'coloring', 'colourful', 'com', 'come', 'comedy', 'comercial', 'comes', 'comfort', 'comfortable', 'comfortably', 'comforts', 'comfy', 'coming', 'comlimentary', 'commendable', 'commented', 'comments', 'common', 'communicated', 'communities', 'community', 'commuter', 'comp', 'companies', 'company', 'compare', 'comparison', 'compensation', 'complain', 'complained', 'complaint', 'complaints', 'complementary', 'complete', 'completely', 'complex', 'complimentary', 'computer', 'concert', 'concierge', 'conditioner', 'conditions', 'condoms', 'conducive', 'conference', 'conferences', 'confortable', 'confusing', 'congress', 'connected', 'connection', 'connections', 'conrad', 'cons', 'consideration', 'consistent', 'consists', 'constant', 'constantly', 'construction', 'consumption', 'contact', 'contacted', 'continental', 'continue', 'continues', 'continuity', 'control', 'convenience', 'convenient', 'conveniently', 'conveniet', 'convention', 'conventions', 'conversation', 'conversations', 'convienent', 'convient', 'cookies', 'cooking', 'cool', 'coordinator', 'copies', 'copperfield', 'cord', 'cordial', 'corner', 'corporate', 'corrected', 'corrective', 'correctly', 'corroded', 'cosmetically', 'cost', 'costly', 'couch', 'could', 'couldn', 'couldnt', 'counter', 'couple', 'couples', 'coupon', 'couraging', 'course', 'courteous', 'courtesy', 'courtyards', 'cove', 'cover', 'covered', 'covering', 'covers', 'cow', 'cozy', 'crack', 'cracked', 'crash', 'crashed', 'crawl', 'crayons', 'crazy', 'cream', 'creamed', 'credit', 'credited', 'crimson', 'criticism', 'crowded', 'cta', 'cube', 'cubicle', 'cubicles', 'cubs', 'cuddle', 'cuddled', 'cuisine', 'cultural', 'cup', 'cupcakes', 'curl', 'curly', 'current', 'curt', 'curtain', 'curtains', 'curtly', 'cushiions', 'customer', 'customers', 'cute', 'cutoff', 'cuts', 'cutting', 'damn', 'dana', 'dangerous', 'danishes', 'dark', 'dart', 'date', 'dated', 'dating', 'daughter', 'day', 'daylight', 'days', 'dead', 'deal', 'dearborn', 'decent', 'decently', 'decide', 'decided', 'decidedly', 'deck', 'decor', 'decorated', 'decorations', 'deep', 'default', 'defiantly', 'definately', 'definetly', 'definite', 'definitely', 'delaware', 'deli', 'delicious', 'delighted', 'delivered', 'delivery', 'deluxe', 'demands', 'demeanor', 'dempster', 'deodorants', 'department', 'depending', 'deposit', 'depressing', 'described', 'description', 'deserved', 'design', 'designed', 'designer', 'designs', 'desk', 'desks', 'deskspace', 'despite', 'destination', 'detail', 'details', 'developed', 'did', 'didn', 'didnt', 'die', 'diego', 'difference', 'different', 'differently', 'difficult', 'difficulties', 'dilapidated', 'dim', 'dine', 'diner', 'dingy', 'dining', 'dinky', 'dinner', 'dinning', 'direct', 'directed', 'direction', 'directions', 'directly', 'dirt', 'dirty', 'dis', 'disapointed', 'disapointment', 'disappeared', 'disappointed', 'disappointing', 'disaster', 'discount', 'discountcabs', 'discounted', 'discovered', 'disease', 'disgusting', 'dish', 'dishes', 'dishwasher', 'dismay', 'disney', 'dispite', 'disregard', 'disrepair', 'dissatisfied', 'distance', 'distractions', 'district', 'dive', 'diverse', 'django', 'do', 'doable', 'docking', 'does', 'doesn', 'dog', 'doing', 'dollar', 'dollars', 'don', 'done', 'dont', 'donuts', 'door', 'doorman', 'doors', 'dorm', 'double', 'doubletree', 'doubletreee', 'down', 'downgrading', 'downs', 'downside', 'downstairs', 'downtow', 'downtown', 'drag', 'drags', 'drain', 'drake', 'drapped', 'drawback', 'drawers', 'draws', 'dreading', 'dress', 'dresser', 'dribble', 'dried', 'drink', 'drinks', 'drive', 'driven', 'driver', 'drivers', 'driving', 'drop', 'drove', 'drugs', 'dry', 'dryers', 'duct', 'due', 'dumb', 'dump', 'dumped', 'during', 'dusty', 'duties', 'each', 'eager', 'early', 'ease', 'easily', 'east', 'eastern', 'easy', 'eat', 'eaten', 'eating', 'ebookers', 'economic', 'edge', 'education', 'efficiency', 'efficient', 'effort', 'egg', 'eggs', 'either', 'el', 'elate', 'electrical', 'elegance', 'elegant', 'elevator', 'elevators', 'eleven', 'else', 'elsewhere', 'emailed', 'embarassing', 'embossed', 'employee', 'employees', 'empty', 'encountered', 'end', 'ended', 'ending', 'ends', 'endure', 'enjoy', 'enjoyable', 'enjoyed', 'enough', 'ensuite', 'enter', 'entering', 'enterprising', 'enters', 'entertainment', 'enthusiasm', 'enthusiastic', 'entire', 'entourage', 'entrance', 'equiped', 'equipment', 'era', 'eradicate', 'erotic', 'errors', 'esa', 'especially', 'establishment', 'establishments', 'etc', 'ethernet', 'eucalyptus', 'europe', 'evanston', 'even', 'evening', 'evenings', 'event', 'events', 'eventually', 'ever', 'every', 'everyday', 'everyone', 'everything', 'everytime', 'everywhere', 'evident', 'exactly', 'example', 'exceedingly', 'excellent', 'except', 'exceptional', 'excited', 'excruciating', 'excuses', 'execptional', 'executive', 'exercise', 'exhausted', 'exhauting', 'existent', 'exit', 'expansive', 'expect', 'expectations', 'expected', 'expecting', 'expensive', 'experience', 'exploded', 'exploration', 'explore', 'express', 'extend', 'extended', 'exterior', 'extra', 'extremely', 'fabulous', 'face', 'facial', 'facilities', 'facility', 'facing', 'fact', 'factor', 'factory', 'fado', 'fails', 'failure', 'faint', 'fair', 'fairly', 'fairmont', 'fake', 'familes', 'families', 'family', 'famous', 'fan', 'fantastic', 'far', 'fare', 'fast', 'faster', 'fastest', 'fault', 'faulting', 'favorable', 'favorite', 'feal', 'fear', 'feather', 'featured', 'feb', 'fed', 'feed', 'feel', 'feeling', 'feels', 'fees', 'feet', 'felf', 'felix', 'fell', 'fellow', 'felt', 'female', 'festival', 'fetch', 'few', 'fi', 'fiancee', 'field', 'figure', 'figured', 'figures', 'fii', 'filled', 'filling', 'film', 'filthy', 'final', 'finally', 'find', 'finding', 'fine', 'finer', 'finest', 'finish', 'finishing', 'fire', 'first', 'fist', 'fit', 'fitness', 'fits', 'fitted', 'five', 'fixedwe', 'flagship', 'flat', 'flavor', 'flew', 'flight', 'flights', 'flimsy', 'flithy', 'flood', 'floor', 'floors', 'fluffy', 'flush', 'flying', 'fold', 'folio', 'folks', 'followed', 'following', 'food', 'foodoverall', 'foods', 'foot', 'football', 'for', 'forced', 'forego', 'foremost', 'forget', 'forgets', 'forgot', 'forgotten', 'former', 'forms', 'fortunately', 'fortune', 'forward', 'found', 'fountain', 'four', 'france', 'frances', 'franchise', 'fraudulent', 'freaked', 'free', 'freeway', 'freezing', 'french', 'frenzied', 'frequent', 'fresh', 'friday', 'fridays', 'fridge', 'fridges', 'friend', 'friendlier', 'friendly', 'friends', 'fries', 'frig', 'frist', 'from', 'front', 'frosted', 'fruit', 'fruits', 'fuel', 'fulfilled', 'full', 'fuller', 'fully', 'fun', 'function', 'functional', 'functionality', 'funny', 'furnishings', 'furniture', 'further', 'fuse', 'future', 'galactic', 'game', 'games', 'gangs', 'gap', 'garage', 'garden', 'gate', 'gave', 'gay', 'gears', 'gel', 'gem', 'general', 'generally', 'generic', 'generous', 'gentleman', 'genuine', 'genuinely', 'get', 'getting', 'gibson', 'gift', 'giggled', 'giordano', 'giordanos', 'girl', 'girlfriend', 'girls', 'gitan', 'give', 'given', 'gives', 'giving', 'glad', 'glass', 'glasses', 'glen', 'glenview', 'globally', 'gloomy', 'glorified', 'go', 'god', 'goes', 'going', 'gold', 'golf', 'gone', 'good', 'google', 'gorgeous', 'got', 'gps', 'grab', 'grace', 'gracious', 'graduation', 'grand', 'grandparents', 'granola', 'grant', 'granted', 'grater', 'great', 'greater', 'greatest', 'greek', 'green', 'greenmilljazz', 'greeted', 'grief', 'grim', 'grimy', 'grocery', 'gross', 'grosse', 'grounds', 'group', 'groups', 'grove', 'guaranteed', 'guess', 'guest', 'guests', 'guidance', 'guideline', 'guitar', 'gum', 'gummi', 'guy', 'gym', 'h20', 'habitat', 'hackney', 'had', 'hading', 'hadnt', 'haha', 'hair', 'hairdryer', 'haired', 'hairs', 'half', 'halfway', 'hall', 'halloween', 'halls', 'hallway', 'hallways', 'halsted', 'hampton', 'hancock', 'hand', 'handicapped', 'handing', 'handle', 'handy', 'hang', 'hanging', 'happen', 'happened', 'happens', 'happily', 'happy', 'hard', 'hardly', 'hare', 'harms', 'harry', 'has', 'hash', 'hasn', 'hauling', 'have', 'haved', 'having', 'hd', 'he', 'head', 'headed', 'heads', 'health', 'hear', 'heard', 'heart', 'hearted', 'heartily', 'heat', 'heater', 'heating', 'heavenly', 'hectic', 'heels', 'height', 'held', 'help', 'helpful', 'helpfulatmosphere', 'helps', 'her', 'here', 'hesitate', 'hestate', 'heterosexual', 'hey', 'hide', 'hiding', 'hie', 'high', 'higher', 'highland', 'highlight', 'highly', 'highway', 'hilton', 'hiltons', 'him', 'hip', 'his', 'historic', 'historical', 'history', 'hit', 'hoc', 'holds', 'holiday', 'holocaust', 'home', 'homeless', 'honestly', 'honey', 'honeymoon', 'hookup', 'hope', 'hopefully', 'hoping', 'horrible', 'horrid', 'hospital', 'hostessing', 'hosting', 'hot', 'hotel', 'hotelcheck', 'hotels', 'hottub', 'hour', 'hours', 'house', 'housekeeping', 'housing', 'how', 'however', 'http', 'huffing', 'huge', 'hugest', 'hungry', 'husband', 'hut', 'hyatt', 'hyatts', 'hybrid', 'ice', 'iced', 'idea', 'ideal', 'ideas', 'idiot', 'if', 'ignorant', 'ilholocaustmuseum', 'illinois', 'imagine', 'immaculate', 'immaculately', 'immediate', 'immediately', 'impeccable', 'important', 'impossible', 'impressed', 'impression', 'impressive', 'improve', 'in', 'inaccessible', 'inaccurate', 'inadequate', 'inbetween', 'incase', 'inch', 'inches', 'include', 'included', 'includes', 'including', 'incoming', 'incompetent', 'inconsistent', 'inconvenient', 'incredible', 'incredibly', 'indifferent', 'indigo', 'individually', 'indoor', 'industry', 'inexpensive', 'infested', 'information', 'informed', 'informing', 'inhabited', 'initial', 'initially', 'inline', 'inn', 'inns', 'inquired', 'inquiring', 'inside', 'inspections', 'instant', 'instead', 'institute', 'instrumental', 'insufficient', 'intangibles', 'intelligentsia', 'intention', 'intercontinental', 'interest', 'interested', 'interim', 'international', 'internet', 'interstate', 'intersted', 'into', 'invoice', 'ipod', 'irish', 'iro', 'ironing', 'irritated', 'is', 'island', 'isn', 'issue', 'it', 'itcons', 'item', 'items', 'its', 'itself', 'jacked', 'jackson', 'jacuzzi', 'james', 'jammed', 'javed', 'jazz', 'jeans', 'jefferson', 'jelly', 'jewel', 'jewish', 'job', 'jobs', 'john', 'joined', 'joked', 'jr', 'juice', 'jul', 'jump', 'jumped', 'junior', 'just', 'kareem', 'keep', 'keeping', 'keeps', 'kenilworth', 'kept', 'key', 'keycard', 'keys', 'kid', 'kidding', 'kidnapped', 'kids', 'kind', 'kinda', 'kinds', 'king', 'kingston', 'kiosk', 'kit', 'kitchen', 'kitchenette', 'kitchnettes', 'knew', 'knickerbocker', 'knobs', 'know', 'knowing', 'known', 'korean', 'la', 'labeled', 'lack', 'lacking', 'lacks', 'ladies', 'lady', 'laid', 'lake', 'lakes', 'lakeshore', 'lakeside', 'landing', 'lane', 'laptop', 'large', 'larger', 'largest', 'last', 'late', 'lateinto', 'later', 'latest', 'latin', 'laugh', 'laughed', 'laundered', 'laundry', 'lavish', 'layer', 'lazy', 'lcd', 'lead', 'leaned', 'learned', 'least', 'leather', 'leave', 'leaved', 'leaves', 'leaving', 'led', 'leeks', 'left', 'legally', 'leisure', 'length', 'less', 'lessons', 'let', 'letting', 'level', 'lg', 'lid', 'life', 'lifeguards', 'lifetime', 'light', 'lighting', 'lights', 'like', 'liked', 'likely', 'likes', 'likewise', 'lilly', 'lime', 'limited', 'lincoln', 'line', 'lined', 'linen', 'linens', 'lining', 'link', 'lint', 'liquid', 'liquor', 'list', 'lit', 'literally', 'literature', 'litte', 'little', 'live', 'lively', 'living', 'll', 'llbe', 'loading', 'lobby', 'local', 'locals', 'located', 'location', 'locations', 'lock', 'lockable', 'locked', 'lodgings', 'lol', 'long', 'longer', 'look', 'looked', 'looking', 'loop', 'loops', 'lost', 'lot', 'lots', 'loud', 'lounge', 'lousy', 'love', 'loved', 'lovely', 'low', 'lower', 'loyalty', 'luckily', 'lucky', 'luggage', 'lunch', 'lunches', 'luxerious', 'luxurious', 'luxury', 'machine', 'machines', 'macy', 'macys', 'maddening', 'made', 'mag', 'magnificent', 'maid', 'mail', 'mailed', 'mails', 'main', 'mainly', 'maintained', 'maintenance', 'majestic', 'major', 'make', 'maker', 'makes', 'making', 'male', 'mall', 'malls', 'man', 'management', 'manager', 'managers', 'mandarin', 'manicure', 'manning', 'many', 'maps', 'marathon', 'maritini', 'marked', 'market', 'marriott', 'marshmellows', 'mart', 'martinis', 'mass', 'massage', 'master', 'mastercard', 'match', 'matter', 'mattress', 'mattresses', 'may', 'maybe', 'mccormick', 'mdw', 'me', 'meal', 'meals', 'means', 'mecca', 'medical', 'mediterranian', 'meet', 'meeting', 'meetings', 'meets', 'meier', 'meierstavern', 'member', 'membership', 'mentioned', 'menu', 'menus', 'merely', 'mess', 'messy', 'met', 'metal', 'meth', 'metra', 'metrarail', 'metro', 'mexican', 'michael', 'michigan', 'microfiridges', 'microwave', 'microwaves', 'mid', 'midday', 'middle', 'midnight', 'midway', 'might', 'mile', 'miles', 'milk', 'mill', 'millenium', 'million', 'milwaukee', 'min', 'mind', 'mine', 'mines', 'mini', 'minimum', 'minnesota', 'minor', 'minuses', 'minute', 'minutes', 'miracle', 'mirror', 'mirrors', 'misleading', 'miss', 'missing', 'mistake', 'miwaukee', 'mix', 'mixer', 'model', 'modern', 'mold', 'momentary', 'mona', 'monaco', 'money', 'months', 'moo', 'more', 'morning', 'mornings', 'morton', 'most', 'mostly', 'motel', 'motels', 'motivated', 'mould', 'mouth', 'move', 'moved', 'movie', 'movies', 'mp3', 'mta', 'much', 'muffins', 'multiple', 'mum', 'murals', 'museum', 'museums', 'music', 'must', 'musuems', 'mutant', 'my', 'myself', 'name', 'nameless', 'names', 'narrow', 'nastiest', 'nasty', 'naval', 'navy', 'near', 'nearby', 'nearesr', 'nearest', 'nearly', 'neat', 'need', 'needed', 'needing', 'needless', 'needs', 'negative', 'negatives', 'neigbourhood', 'neighbord', 'neighborhood', 'neighbors', 'network', 'never', 'new', 'newer', 'newly', 'newspapers', 'next', 'nfl', 'nice', 'nicely', 'nicer', 'nicest', 'nickelodeon', 'night', 'nightclubs', 'nightlife', 'nightmare', 'nights', 'niles', 'nite', 'no', 'noise', 'noises', 'noisy', 'nominal', 'non', 'none', 'nonsmoking', 'nook', 'noon', 'noone', 'nor', 'nordstrom', 'normal', 'normally', 'nort', 'north', 'northbrook', 'northshore', 'northwest', 'northwestern', 'nostalgic', 'not', 'notch', 'note', 'nothing', 'noting', 'nov', 'novo', 'now', 'nowadays', 'nowhere', 'number', 'numerous', 'ny', 'nyc', 'oakton', 'oakwood', 'oatmeal', 'oblivious', 'obsequious', 'observatory', 'obstructed', 'obtain', 'obvious', 'obviously', 'occasion', 'oct', 'october', 'odd', 'of', 'off', 'offended', 'offer', 'offered', 'offers', 'office', 'often', 'oh', 'ohio', 'ok', 'old', 'older', 'oldest', 'omelet', 'omg', 'omni', 'on', 'once', 'one', 'ones', 'online', 'only', 'ontario', 'open', 'opened', 'opening', 'openned', 'opinion', 'opinions', 'opportunity', 'opposite', 'opt', 'option', 'options', 'opulence', 'or', 'orange', 'orchard', 'ord', 'order', 'ordered', 'ordering', 'org', 'oriental', 'original', 'orignally', 'oscar', 'osco', 'other', 'others', 'otherwise', 'our', 'ourselves', 'ousekeeping', 'out', 'outdoor', 'outdoors', 'outher', 'outlet', 'outrageous', 'outservice', 'outside', 'outstanding', 'outweigh', 'over', 'overall', 'overcharged', 'overhear', 'overlooked', 'overly', 'overpriced', 'oversize', 'own', 'owned', 'owners', 'pace', 'pacebus', 'pack', 'package', 'packages', 'packed', 'packets', 'pads', 'paid', 'pain', 'paint', 'painters', 'pair', 'pairs', 'palmer', 'pampered', 'pan', 'pancake', 'pancakes', 'panel', 'pans', 'pantry', 'paper', 'papers', 'parade', 'parents', 'park', 'parking', 'part', 'partially', 'particular', 'particularly', 'partner', 'party', 'partying', 'pass', 'passed', 'passes', 'passport', 'past', 'pastries', 'pastry', 'patch', 'patching', 'pay', 'paying', 'payment', 'pc', 'peaceful', 'pee', 'peeling', 'peninsula', 'penny', 'pens', 'penthouse', 'people', 'per', 'perfect', 'perfection', 'perfectly', 'perhaps', 'permit', 'persisted', 'person', 'personal', 'personality', 'personally', 'petrol', 'phone', 'photo', 'photos', 'physicians', 'pick', 'picked', 'picking', 'picky', 'picture', 'pictured', 'pictures', 'piece', 'pieces', 'pier', 'pillow', 'pillowcases', 'pillows', 'pipesunfortunately', 'pirate', 'pirates', 'pitcher', 'pixelating', 'pizza', 'place', 'placed', 'placefirst', 'placeholder', 'placement', 'places', 'plain', 'plan', 'planning', 'plastic', 'platform', 'player', 'playing', 'plaza', 'pleasant', 'pleasantly', 'please', 'pleased', 'pleasure', 'plentiful', 'plenty', 'plethora', 'plump', 'plus', 'pluses', 'plush', 'plywood', 'pm', 'pn', 'pod', 'point', 'pointe', 'points', 'policy', 'polished', 'polite', 'ponticelli', 'pool', 'poor', 'poorly', 'pop', 'population', 'portions', 'positive', 'positives', 'possible', 'post', 'posted', 'pot', 'potatoes', 'potpouri', 'potpurri', 'pots', 'pounding', 'power', 'powered', 'precisely', 'predictable', 'prepaid', 'present', 'presents', 'preset', 'president', 'pressure', 'pretty', 'prevented', 'previous', 'previously', 'price', 'priced', 'priceline', 'prices', 'pricey', 'pricing', 'pride', 'prime', 'print', 'printed', 'printer', 'printers', 'printing', 'prints', 'prior', 'privacy', 'private', 'privileges', 'probably', 'problem', 'problematic', 'problems', 'products', 'professional', 'programs', 'projects', 'promise', 'promised', 'promises', 'promote', 'promotion', 'prompt', 'promptly', 'proofing', 'proper', 'properly', 'property', 'proposition', 'prority', 'pros', 'prostition', 'protein', 'prove', 'provide', 'provided', 'provides', 'providing', 'proximity', 'proximitythe', 'prudence', 'pub', 'public', 'puffing', 'pulaski', 'pull', 'pulled', 'pullout', 'punt', 'purchase', 'purchases', 'purchasing', 'pure', 'purified', 'purple', 'purpose', 'put', 'quaint', 'quality', 'quarter', 'queen', 'question', 'questioned', 'questions', 'quibble', 'quiche', 'quick', 'quickly', 'quiet', 'quite', 'quot', 'quoted', 'rabble', 'rachel', 'racing', 'radio', 'raining', 'rainy', 'raise', 'ramada', 'rampant', 'ran', 'randomly', 'range', 'rate', 'rates', 'rather', 'rating', 'ratings', 're', 'reabate', 'reach', 'reaction', 'read', 'ready', 'real', 'realized', 'really', 'reason', 'reasonable', 'reasonably', 'reasons', 'reassured', 'receipt', 'receive', 'received', 'receives', 'receiving', 'recent', 'recently', 'reception', 'receptionist', 'receptions', 'recommend', 'recommendations', 'recommended', 'recommending', 'reconsider', 'red', 'redeeming', 'reduced', 'reflection', 'reflections', 'refrigerator', 'refund', 'refundable', 'refunds', 'regarding', 'regular', 'reinhardt', 'relatively', 'relax', 'relaxin', 'relaxing', 'remain', 'remarkable', 'reminded', 'remote', 'renaissance', 'renovated', 'renovation', 'renovations', 'rent', 'rented', 'renting', 'rents', 'repair', 'replace', 'reported', 'representative', 'reputation', 'request', 'requested', 'requests', 'require', 'resaurant', 'reservation', 'reservations', 'reserve', 'reserved', 'reserving', 'reset', 'residence', 'residential', 'resolution', 'resolve', 'respect', 'respectable', 'respects', 'respond', 'responded', 'response', 'responsive', 'rest', 'restaurant', 'restaurants', 'restraunts', 'retreat', 'return', 'returned', 'returning', 'reunion', 'revamped', 'review', 'reviewer', 'reviewers', 'reviews', 'revolving', 'rich', 'rid', 'ride', 'ridge', 'ridges', 'ridiculously', 'right', 'rings', 'rip', 'risk', 'risky', 'ritz', 'river', 'roach', 'roaches', 'road', 'robbery', 'robe', 'robes', 'rock', 'rod', 'rogers', 'rollaway', 'rollaways', 'romantic', 'romm', 'roof', 'rooftop', 'room', 'roomdislikes', 'rooms', 'roomy', 'rosebud', 'roughly', 'round', 'rousers', 'route', 'routers', 'roving', 'rtc', 'rubix', 'ruby', 'rude', 'rugs', 'ruin', 'rule', 'rumble', 'run', 'running', 'runs', 'rush', 'rustic', 'rusty', 'safe', 'said', 'sale', 'salle', 'salts', 'same', 'san', 'sanitized', 'sat', 'sather', 'satisfied', 'saturday', 'sausages', 'save', 'saved', 'saving', 'saw', 'say', 'saying', 'says', 'scared', 'scary', 'scattered', 'scene', 'schmick', 'scottsdale', 'scrambled', 'screen', 'screens', 'screwed', 'scrubbed', 'scuffs', 'scurrying', 'se', 'search', 'sears', 'season', 'seasoned', 'seasons', 'seat', 'seating', 'seats', 'seattle', 'second', 'secret', 'secure', 'security', 'see', 'seedy', 'seem', 'seemed', 'seems', 'seen', 'selected', 'selection', 'semi', 'send', 'sense', 'sep', 'separate', 'separated', 'separating', 'september', 'seriously', 'serve', 'served', 'server', 'serves', 'service', 'services', 'set', 'sets', 'setting', 'setup', 'several', 'sevice', 'sewing', 'sexual', 'shades', 'shady', 'shallow', 'shampoo', 'shape', 'shaped', 'shared', 'shares', 'sharing', 'shaving', 'she', 'sheet', 'sheets', 'sheffield', 'shelf', 'shells', 'sheraton', 'shift', 'ship', 'shirt', 'shocked', 'shoes', 'shooting', 'shop', 'shoppers', 'shopping', 'shops', 'shore', 'short', 'shortage', 'shorts', 'should', 'shouldn', 'show', 'showdown', 'showed', 'shower', 'showers', 'shows', 'shut', 'shutters', 'shuttle', 'sick', 'side', 'sideburns', 'sidelines', 'sidewalk', 'sightseeing', 'sign', 'signage', 'significant', 'significantly', 'signs', 'silly', 'silverware', 'simpler', 'simplest', 'simply', 'since', 'single', 'sink', 'sip', 'sirens', 'sister', 'sisters', 'sit', 'site', 'sitting', 'situ', 'situated', 'situation', 'size', 'sized', 'skills', 'skin', 'skinny', 'skip', 'skokie', 'skyline', 'slammed', 'slamming', 'slavery', 'sleek', 'sleep', 'sleeper', 'sleeping', 'slept', 'slid', 'slides', 'sliding', 'slight', 'slightly', 'slippers', 'slipping', 'slow', 'slum', 'smack', 'small', 'smaller', 'smell', 'smelled', 'smelly', 'smile', 'smith', 'smoke', 'smoking', 'smoothest', 'smoothly', 'snacks', 'so', 'soak', 'soap', 'sobering', 'sofa', 'sofas', 'soft', 'softer', 'sold', 'solid', 'solutions', 'solve', 'some', 'somebasics', 'someone', 'something', 'sometimes', 'somewhat', 'somewhere', 'son', 'soon', 'sooo', 'soothing', 'sophisticated', 'sore', 'sorry', 'sort', 'sound', 'soundproofing', 'sources', 'south', 'souvenirs', 'spa', 'space', 'spacious', 'spare', 'speak', 'speaking', 'special', 'specific', 'specifically', 'spectacular', 'speech', 'spend', 'spending', 'spent', 'spg', 'spilled', 'splashed', 'splurged', 'spoke', 'spoon', 'spot', 'spotless', 'spotlessly', 'spots', 'spotty', 'spray', 'spread', 'spree', 'springhill', 'springs', 'st', 'stacked', 'stacks', 'stadium', 'staff', 'stained', 'stains', 'staircase', 'stairs', 'stall', 'stand', 'standard', 'standards', 'standing', 'stands', 'star', 'starbuck', 'starbucks', 'stars', 'start', 'started', 'startled', 'starts', 'state', 'stated', 'statement', 'states', 'stating', 'station', 'statyed', 'stay', 'stayed', 'staying', 'stays', 'std', 'steak', 'steaming', 'steer', 'stellar', 'step', 'stepped', 'steps', 'stevens', 'sticky', 'stifling', 'still', 'stock', 'stocked', 'stole', 'stood', 'stop', 'stopover', 'stopped', 'stopping', 'stops', 'storage', 'store', 'stored', 'stores', 'stories', 'stormed', 'story', 'stove', 'straight', 'strange', 'strangely', 'stratford', 'straw', 'street', 'streets', 'stressful', 'stretch', 'studio', 'studios', 'stuff', 'stuffed', 'stuffy', 'style', 'subtle', 'suburb', 'suburban', 'subway', 'such', 'suck', 'sucker', 'sufficient', 'suggest', 'suggestions', 'suggests', 'suit', 'suitcase', 'suite', 'suited', 'suites', 'sun', 'sunday', 'sunrise', 'sunset', 'super', 'superb', 'supervisor', 'supply', 'supposed', 'sure', 'surely', 'surfing', 'surgery', 'surprise', 'surprised', 'surprising', 'surprisingly', 'surrounded', 'surrounding', 'susan', 'sushi', 'sutton', 'swatches', 'swears', 'sweater', 'sweedish', 'sweetie', 'swim', 'swimming', 'swing', 'switch', 'switched', 'syrup', 'system', 'tab', 'table', 'take', 'taken', 'takes', 'taking', 'talk', 'talking', 'tall', 'taller', 'tape', 'target', 'targetted', 'taste', 'tasted', 'tasty', 'tavern', 'tax', 'taxi', 'taxis', 'tazo', 'tea', 'teas', 'teenagers', 'televion', 'tell', 'telling', 'temperature', 'ten', 'tend', 'tepid', 'terrible', 'terrific', 'tgi', 'tgif', 'thai', 'than', 'thank', 'thankfully', 'thanks', 'thanksgiving', 'thann', 'that', 'the', 'theater', 'their', 'them', 'then', 'there', 'these', 'thewit', 'they', 'theyre', 'thick', 'thieves', 'thin', 'thing', 'things', 'think', 'third', 'this', 'thorough', 'thoroughly', 'those', 'though', 'thought', 'three', 'threw', 'thristy', 'throat', 'through', 'throughout', 'throw', 'thxgiving', 'tickets', 'tidy', 'tile', 'tiles', 'till', 'time', 'timer', 'times', 'tiny', 'tips', 'tired', 'to', 'toast', 'toilet', 'toiletries', 'toilets', 'told', 'tolerable', 'tons', 'too', 'took', 'top', 'torn', 'toronto', 'total', 'totally', 'touches', 'tour', 'tourism', 'tourist', 'touristy', 'toward', 'towel', 'towels', 'tower', 'towers', 'town', 'toyota', 'toys', 'tradewinds', 'trading', 'tradition', 'traditional', 'traffic', 'train', 'trained', 'training', 'trains', 'tranquility', 'transfer', 'transit', 'transitchicago', 'transportation', 'trattoria', 'travel', 'traveled', 'traveler', 'travelers', 'traveling', 'travelled', 'travellers', 'travelling', 'travelodge', 'travelodges', 'travelzoo', 'tray', 'treadmill', 'treated', 'treatment', 'trees', 'trendy', 'tried', 'trip', 'tripadvisor', 'tripped', 'trips', 'troopers', 'tropical', 'trouble', 'trucks', 'trudging', 'true', 'truly', 'trump', 'trusted', 'try', 'tryin', 'trying', 'tub', 'tubs', 'tuck', 'tuesday', 'turn', 'turned', 'turning', 'turnover', 'tv', 'tvs', 'twice', 'twin', 'two', 'type', 'types', 'typical', 'typically', 'u2', 'ugh', 'uic', 'ulc', 'ultimate', 'umbrella', 'unacceptable', 'unbelievably', 'unclean', 'uncomfortable', 'under', 'undergone', 'underground', 'understand', 'understanding', 'understood', 'unexpected', 'unfamiliar', 'unfortunately', 'unhelpful', 'uniformly', 'unimaginable', 'uninterested', 'union', 'unionists', 'uniqueroom', 'united', 'unlimited', 'unloaded', 'unmanned', 'unobstructed', 'unoccupied', 'unpack', 'unprofessional', 'unreasonable', 'unsafe', 'unsecure', 'unsightliness', 'unspectacular', 'until', 'unusual', 'up', 'upcoming', 'updated', 'updating', 'upgrade', 'upgraded', 'upon', 'upper', 'ups', 'upscale', 'upset', 'upstairs', 'us', 'usa', 'use', 'used', 'useless', 'using', 'usual', 'usually', 'utilize', 'utter', 'vacation', 'vacinity', 'vacuum', 'valet', 'validation', 'value', 'values', 'van', 'vanity', 'various', 've', 'vehicle', 'velvet', 'venturing', 'versus', 'very', 'vibe', 'vibrant', 'vicinity', 'view', 'views', 'vigilant', 'vince', 'violence', 'visable', 'visit', 'visiting', 'visits', 'voice', 'vomit', 'vote', 'voted', 'vouchers', 'vs', 'waffle', 'waffles', 'wait', 'waited', 'waiting', 'waitress', 'waitresses', 'waking', 'wal', 'walgreen', 'walk', 'walked', 'walking', 'walks', 'wall', 'wallpaper', 'walls', 'walton', 'wandering', 'want', 'wanted', 'wanting', 'wants', 'warm', 'warmly', 'warning', 'wars', 'was', 'wash', 'washable', 'washers', 'wasn', 'wasnt', 'watch', 'watched', 'watching', 'water', 'waterpark', 'waukegan', 'way', 'we', 'weak', 'wear', 'wearing', 'weather', 'web', 'website', 'websites', 'wedding', 'wednesday', 'week', 'weekend', 'weeks', 'welcome', 'welcoming', 'well', 'went', 'were', 'weren', 'west', 'westbound', 'western', 'westin', 'wet', 'what', 'whatever', 'whats', 'wheel', 'when', 'where', 'whether', 'which', 'while', 'whilst', 'whisper', 'white', 'whiteboard', 'who', 'whole', 'whos', 'why', 'wi', 'wicker', 'wide', 'wierd', 'wife', 'wifi', 'wifilasted', 'wii', 'will', 'william', 'willing', 'willingness', 'willis', 'willmette', 'willows', 'window', 'windows', 'windy', 'wine', 'winnetka', 'winteri', 'wired', 'wireless', 'wires', 'wirless', 'wise', 'wish', 'with', 'within', 'without', 'wkly', 'wollensky', 'won', 'wondeful', 'wonderful', 'wonderfully', 'wont', 'wood', 'work', 'worked', 'worker', 'working', 'workout', 'workplaces', 'works', 'world', 'worn', 'worried', 'worries', 'worse', 'worst', 'worth', 'would', 'wouldn', 'wound', 'wow', 'wowed', 'wrap', 'wrapped', 'wrigley', 'write', 'writing', 'written', 'wrong', 'www', 'wyndham', 'yardhouse', 'yards', 'yea', 'year', 'yearly', 'years', 'yellow', 'yes', 'yet', 'yogurt', 'yolk', 'york', 'you', 'young', 'younger', 'your', 'yourself', 'zephyr', 'zero', 'zoo']\n"
     ]
    }
   ],
   "source": [
    "print(vectorizer.get_feature_names())"
   ]
  },
  {
   "cell_type": "code",
   "execution_count": 144,
   "metadata": {},
   "outputs": [
    {
     "name": "stdout",
     "output_type": "stream",
     "text": [
      "LinearRegression(copy_X=True, fit_intercept=True, n_jobs=None, normalize=False)\n"
     ]
    }
   ],
   "source": [
    "# from sklearn.linear_model import LinearRegression\n",
    "model = LinearRegression().fit(Xtrain,trainSet[\"rating\"])\n",
    "print(model)\n",
    "result = model.predict(Xtest)"
   ]
  },
  {
   "cell_type": "code",
   "execution_count": 108,
   "metadata": {},
   "outputs": [
    {
     "data": {
      "text/plain": [
       "array([3.85874182, 3.39954554, 3.56727667, 3.77566212, 3.64299127,\n",
       "       3.62054867, 3.40688425, 3.90766914, 4.24189634, 3.60724375,\n",
       "       4.19698343, 4.29704535, 3.73577052, 3.6342023 , 3.84764935,\n",
       "       3.95702287, 1.0625    , 3.35273611, 4.11196055, 3.87354009,\n",
       "       1.0625    , 3.83111144, 3.60211379, 3.40669211, 1.0625    ,\n",
       "       3.85080167, 3.56160078, 4.48581816, 3.76208716, 4.13370562,\n",
       "       4.196473  , 3.67085621])"
      ]
     },
     "execution_count": 108,
     "metadata": {},
     "output_type": "execute_result"
    }
   ],
   "source": [
    "result"
   ]
  },
  {
   "cell_type": "code",
   "execution_count": 115,
   "metadata": {},
   "outputs": [
    {
     "data": {
      "text/plain": [
       "array([ 0.04056363,  0.06807067,  0.        , ..., -0.10846741,\n",
       "        0.        ,  0.06466693])"
      ]
     },
     "execution_count": 115,
     "metadata": {},
     "output_type": "execute_result"
    }
   ],
   "source": [
    "model.coef_"
   ]
  },
  {
   "cell_type": "code",
   "execution_count": 118,
   "metadata": {},
   "outputs": [],
   "source": [
    "c = np.absolute(model.coef_)"
   ]
  },
  {
   "cell_type": "code",
   "execution_count": 135,
   "metadata": {},
   "outputs": [
    {
     "name": "stdout",
     "output_type": "stream",
     "text": [
      "selected features: ['about' 'are' 'area' 'bum' 'chateau' 'chicago' 'don' 'drugs' 'great'\n",
      " 'guy' 'halfway' 'her' 'hours' 'incoming' 'kids' 'live' 'needed' 'never'\n",
      " 'not' 'office' 'on' 'placeholder' 'plastic' 'prostition' 'put' 'rampant'\n",
      " 'refund' 'said' 'service' 'sheets' 'stay' 'travelers' 'trying' 'type'\n",
      " 'us' 've' 'violence' 'wanted' 'warning' 'wonderful']\n"
     ]
    }
   ],
   "source": [
    "selected_features = np.where(c>0.5)[0]\n",
    "print(\"selected features:\",np.array(vectorizer.get_feature_names())[selected_features])"
   ]
  },
  {
   "cell_type": "code",
   "execution_count": 136,
   "metadata": {},
   "outputs": [],
   "source": [
    "model = LinearRegression().fit(Xtrain[:,selected_features],trainSet[\"rating\"])\n",
    "result = model.predict(Xtest[:,selected_features])"
   ]
  },
  {
   "cell_type": "code",
   "execution_count": 137,
   "metadata": {},
   "outputs": [
    {
     "data": {
      "text/plain": [
       "array([ 3.92246232,  3.44928927,  3.0894422 ,  3.98615185,  4.05930271,\n",
       "        4.16069415,  4.00896462,  4.01116858,  4.25644691,  3.99521471,\n",
       "        4.39577984,  3.45127819,  3.67700502,  3.30966998,  4.73296404,\n",
       "        3.90674733,  1.0625    ,  2.96111234,  2.96291476,  3.97642537,\n",
       "        1.0625    ,  4.24758791,  4.4222018 ,  4.02253179,  1.0625    ,\n",
       "        4.17145887, -0.0765281 ,  4.24461816,  4.33460353,  3.76675329,\n",
       "        4.38486534,  3.41257804])"
      ]
     },
     "execution_count": 137,
     "metadata": {},
     "output_type": "execute_result"
    }
   ],
   "source": [
    "result"
   ]
  },
  {
   "cell_type": "code",
   "execution_count": 138,
   "metadata": {},
   "outputs": [],
   "source": [
    "mse = np.mean((result-testSet[\"rating\"])**2)"
   ]
  },
  {
   "cell_type": "code",
   "execution_count": 139,
   "metadata": {},
   "outputs": [
    {
     "name": "stdout",
     "output_type": "stream",
     "text": [
      "2.7356735262584317\n"
     ]
    }
   ],
   "source": [
    "print(mse)"
   ]
  },
  {
   "cell_type": "code",
   "execution_count": 142,
   "metadata": {},
   "outputs": [
    {
     "data": {
      "text/plain": [
       "array([ 4.73296404,  4.4222018 ,  4.39577984,  4.38486534,  4.33460353,\n",
       "        4.25644691,  4.24758791,  4.24461816,  4.17145887,  4.16069415,\n",
       "        4.05930271,  4.02253179,  4.01116858,  4.00896462,  3.99521471,\n",
       "        3.98615185,  3.97642537,  3.92246232,  3.90674733,  3.76675329,\n",
       "        3.67700502,  3.45127819,  3.44928927,  3.41257804,  3.30966998,\n",
       "        3.0894422 ,  2.96291476,  2.96111234,  1.0625    ,  1.0625    ,\n",
       "        1.0625    , -0.0765281 ])"
      ]
     },
     "execution_count": 142,
     "metadata": {},
     "output_type": "execute_result"
    }
   ],
   "source": [
    "result[np.argsort(result)][::-1]"
   ]
  },
  {
   "cell_type": "code",
   "execution_count": null,
   "metadata": {},
   "outputs": [],
   "source": []
  }
 ],
 "metadata": {
  "kernelspec": {
   "display_name": "Python 2",
   "language": "python",
   "name": "python2"
  },
  "language_info": {
   "codemirror_mode": {
    "name": "ipython",
    "version": 2
   },
   "file_extension": ".py",
   "mimetype": "text/x-python",
   "name": "python",
   "nbconvert_exporter": "python",
   "pygments_lexer": "ipython2",
   "version": "2.7.15+"
  }
 },
 "nbformat": 4,
 "nbformat_minor": 2
}
